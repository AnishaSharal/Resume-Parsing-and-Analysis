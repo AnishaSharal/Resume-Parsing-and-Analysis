{
  "cells": [
    {
      "cell_type": "markdown",
      "id": "f11a78cf",
      "metadata": {
        "id": "f11a78cf"
      },
      "source": [
        "# Step 1: Setting up the Environment"
      ]
    },
    {
      "cell_type": "markdown",
      "id": "9909382d",
      "metadata": {
        "id": "9909382d"
      },
      "source": [
        "Note:- First,ensure you have the necessary libraries installed. You can install them using pip:"
      ]
    },
    {
      "cell_type": "code",
      "execution_count": 1,
      "id": "8f16ea41",
      "metadata": {
        "colab": {
          "base_uri": "https://localhost:8080/"
        },
        "id": "8f16ea41",
        "outputId": "8a316eae-ca65-4448-d7a2-933505613cc7"
      },
      "outputs": [
        {
          "output_type": "stream",
          "name": "stdout",
          "text": [
            "Requirement already satisfied: spacy in /usr/local/lib/python3.10/dist-packages (3.7.5)\n",
            "Requirement already satisfied: pandas in /usr/local/lib/python3.10/dist-packages (2.0.3)\n",
            "Collecting sklearn\n",
            "  Downloading sklearn-0.0.post12.tar.gz (2.6 kB)\n",
            "  \u001b[1;31merror\u001b[0m: \u001b[1msubprocess-exited-with-error\u001b[0m\n",
            "  \n",
            "  \u001b[31m×\u001b[0m \u001b[32mpython setup.py egg_info\u001b[0m did not run successfully.\n",
            "  \u001b[31m│\u001b[0m exit code: \u001b[1;36m1\u001b[0m\n",
            "  \u001b[31m╰─>\u001b[0m See above for output.\n",
            "  \n",
            "  \u001b[1;35mnote\u001b[0m: This error originates from a subprocess, and is likely not a problem with pip.\n",
            "  Preparing metadata (setup.py) ... \u001b[?25l\u001b[?25herror\n",
            "\u001b[1;31merror\u001b[0m: \u001b[1mmetadata-generation-failed\u001b[0m\n",
            "\n",
            "\u001b[31m×\u001b[0m Encountered error while generating package metadata.\n",
            "\u001b[31m╰─>\u001b[0m See above for output.\n",
            "\n",
            "\u001b[1;35mnote\u001b[0m: This is an issue with the package mentioned above, not pip.\n",
            "\u001b[1;36mhint\u001b[0m: See above for details.\n",
            "Collecting en-core-web-sm==3.7.1\n",
            "  Downloading https://github.com/explosion/spacy-models/releases/download/en_core_web_sm-3.7.1/en_core_web_sm-3.7.1-py3-none-any.whl (12.8 MB)\n",
            "\u001b[2K     \u001b[90m━━━━━━━━━━━━━━━━━━━━━━━━━━━━━━━━━━━━━━━━\u001b[0m \u001b[32m12.8/12.8 MB\u001b[0m \u001b[31m69.4 MB/s\u001b[0m eta \u001b[36m0:00:00\u001b[0m\n",
            "\u001b[?25hRequirement already satisfied: spacy<3.8.0,>=3.7.2 in /usr/local/lib/python3.10/dist-packages (from en-core-web-sm==3.7.1) (3.7.5)\n",
            "Requirement already satisfied: spacy-legacy<3.1.0,>=3.0.11 in /usr/local/lib/python3.10/dist-packages (from spacy<3.8.0,>=3.7.2->en-core-web-sm==3.7.1) (3.0.12)\n",
            "Requirement already satisfied: spacy-loggers<2.0.0,>=1.0.0 in /usr/local/lib/python3.10/dist-packages (from spacy<3.8.0,>=3.7.2->en-core-web-sm==3.7.1) (1.0.5)\n",
            "Requirement already satisfied: murmurhash<1.1.0,>=0.28.0 in /usr/local/lib/python3.10/dist-packages (from spacy<3.8.0,>=3.7.2->en-core-web-sm==3.7.1) (1.0.10)\n",
            "Requirement already satisfied: cymem<2.1.0,>=2.0.2 in /usr/local/lib/python3.10/dist-packages (from spacy<3.8.0,>=3.7.2->en-core-web-sm==3.7.1) (2.0.8)\n",
            "Requirement already satisfied: preshed<3.1.0,>=3.0.2 in /usr/local/lib/python3.10/dist-packages (from spacy<3.8.0,>=3.7.2->en-core-web-sm==3.7.1) (3.0.9)\n",
            "Requirement already satisfied: thinc<8.3.0,>=8.2.2 in /usr/local/lib/python3.10/dist-packages (from spacy<3.8.0,>=3.7.2->en-core-web-sm==3.7.1) (8.2.5)\n",
            "Requirement already satisfied: wasabi<1.2.0,>=0.9.1 in /usr/local/lib/python3.10/dist-packages (from spacy<3.8.0,>=3.7.2->en-core-web-sm==3.7.1) (1.1.3)\n",
            "Requirement already satisfied: srsly<3.0.0,>=2.4.3 in /usr/local/lib/python3.10/dist-packages (from spacy<3.8.0,>=3.7.2->en-core-web-sm==3.7.1) (2.4.8)\n",
            "Requirement already satisfied: catalogue<2.1.0,>=2.0.6 in /usr/local/lib/python3.10/dist-packages (from spacy<3.8.0,>=3.7.2->en-core-web-sm==3.7.1) (2.0.10)\n",
            "Requirement already satisfied: weasel<0.5.0,>=0.1.0 in /usr/local/lib/python3.10/dist-packages (from spacy<3.8.0,>=3.7.2->en-core-web-sm==3.7.1) (0.4.1)\n",
            "Requirement already satisfied: typer<1.0.0,>=0.3.0 in /usr/local/lib/python3.10/dist-packages (from spacy<3.8.0,>=3.7.2->en-core-web-sm==3.7.1) (0.12.3)\n",
            "Requirement already satisfied: tqdm<5.0.0,>=4.38.0 in /usr/local/lib/python3.10/dist-packages (from spacy<3.8.0,>=3.7.2->en-core-web-sm==3.7.1) (4.66.4)\n",
            "Requirement already satisfied: requests<3.0.0,>=2.13.0 in /usr/local/lib/python3.10/dist-packages (from spacy<3.8.0,>=3.7.2->en-core-web-sm==3.7.1) (2.31.0)\n",
            "Requirement already satisfied: pydantic!=1.8,!=1.8.1,<3.0.0,>=1.7.4 in /usr/local/lib/python3.10/dist-packages (from spacy<3.8.0,>=3.7.2->en-core-web-sm==3.7.1) (2.7.4)\n",
            "Requirement already satisfied: jinja2 in /usr/local/lib/python3.10/dist-packages (from spacy<3.8.0,>=3.7.2->en-core-web-sm==3.7.1) (3.1.4)\n",
            "Requirement already satisfied: setuptools in /usr/local/lib/python3.10/dist-packages (from spacy<3.8.0,>=3.7.2->en-core-web-sm==3.7.1) (67.7.2)\n",
            "Requirement already satisfied: packaging>=20.0 in /usr/local/lib/python3.10/dist-packages (from spacy<3.8.0,>=3.7.2->en-core-web-sm==3.7.1) (24.1)\n",
            "Requirement already satisfied: langcodes<4.0.0,>=3.2.0 in /usr/local/lib/python3.10/dist-packages (from spacy<3.8.0,>=3.7.2->en-core-web-sm==3.7.1) (3.4.0)\n",
            "Requirement already satisfied: numpy>=1.19.0 in /usr/local/lib/python3.10/dist-packages (from spacy<3.8.0,>=3.7.2->en-core-web-sm==3.7.1) (1.25.2)\n",
            "Requirement already satisfied: language-data>=1.2 in /usr/local/lib/python3.10/dist-packages (from langcodes<4.0.0,>=3.2.0->spacy<3.8.0,>=3.7.2->en-core-web-sm==3.7.1) (1.2.0)\n",
            "Requirement already satisfied: annotated-types>=0.4.0 in /usr/local/lib/python3.10/dist-packages (from pydantic!=1.8,!=1.8.1,<3.0.0,>=1.7.4->spacy<3.8.0,>=3.7.2->en-core-web-sm==3.7.1) (0.7.0)\n",
            "Requirement already satisfied: pydantic-core==2.18.4 in /usr/local/lib/python3.10/dist-packages (from pydantic!=1.8,!=1.8.1,<3.0.0,>=1.7.4->spacy<3.8.0,>=3.7.2->en-core-web-sm==3.7.1) (2.18.4)\n",
            "Requirement already satisfied: typing-extensions>=4.6.1 in /usr/local/lib/python3.10/dist-packages (from pydantic!=1.8,!=1.8.1,<3.0.0,>=1.7.4->spacy<3.8.0,>=3.7.2->en-core-web-sm==3.7.1) (4.12.2)\n",
            "Requirement already satisfied: charset-normalizer<4,>=2 in /usr/local/lib/python3.10/dist-packages (from requests<3.0.0,>=2.13.0->spacy<3.8.0,>=3.7.2->en-core-web-sm==3.7.1) (3.3.2)\n",
            "Requirement already satisfied: idna<4,>=2.5 in /usr/local/lib/python3.10/dist-packages (from requests<3.0.0,>=2.13.0->spacy<3.8.0,>=3.7.2->en-core-web-sm==3.7.1) (3.7)\n",
            "Requirement already satisfied: urllib3<3,>=1.21.1 in /usr/local/lib/python3.10/dist-packages (from requests<3.0.0,>=2.13.0->spacy<3.8.0,>=3.7.2->en-core-web-sm==3.7.1) (2.0.7)\n",
            "Requirement already satisfied: certifi>=2017.4.17 in /usr/local/lib/python3.10/dist-packages (from requests<3.0.0,>=2.13.0->spacy<3.8.0,>=3.7.2->en-core-web-sm==3.7.1) (2024.6.2)\n",
            "Requirement already satisfied: blis<0.8.0,>=0.7.8 in /usr/local/lib/python3.10/dist-packages (from thinc<8.3.0,>=8.2.2->spacy<3.8.0,>=3.7.2->en-core-web-sm==3.7.1) (0.7.11)\n",
            "Requirement already satisfied: confection<1.0.0,>=0.0.1 in /usr/local/lib/python3.10/dist-packages (from thinc<8.3.0,>=8.2.2->spacy<3.8.0,>=3.7.2->en-core-web-sm==3.7.1) (0.1.5)\n",
            "Requirement already satisfied: click>=8.0.0 in /usr/local/lib/python3.10/dist-packages (from typer<1.0.0,>=0.3.0->spacy<3.8.0,>=3.7.2->en-core-web-sm==3.7.1) (8.1.7)\n",
            "Requirement already satisfied: shellingham>=1.3.0 in /usr/local/lib/python3.10/dist-packages (from typer<1.0.0,>=0.3.0->spacy<3.8.0,>=3.7.2->en-core-web-sm==3.7.1) (1.5.4)\n",
            "Requirement already satisfied: rich>=10.11.0 in /usr/local/lib/python3.10/dist-packages (from typer<1.0.0,>=0.3.0->spacy<3.8.0,>=3.7.2->en-core-web-sm==3.7.1) (13.7.1)\n",
            "Requirement already satisfied: cloudpathlib<1.0.0,>=0.7.0 in /usr/local/lib/python3.10/dist-packages (from weasel<0.5.0,>=0.1.0->spacy<3.8.0,>=3.7.2->en-core-web-sm==3.7.1) (0.18.1)\n",
            "Requirement already satisfied: smart-open<8.0.0,>=5.2.1 in /usr/local/lib/python3.10/dist-packages (from weasel<0.5.0,>=0.1.0->spacy<3.8.0,>=3.7.2->en-core-web-sm==3.7.1) (7.0.4)\n",
            "Requirement already satisfied: MarkupSafe>=2.0 in /usr/local/lib/python3.10/dist-packages (from jinja2->spacy<3.8.0,>=3.7.2->en-core-web-sm==3.7.1) (2.1.5)\n",
            "Requirement already satisfied: marisa-trie>=0.7.7 in /usr/local/lib/python3.10/dist-packages (from language-data>=1.2->langcodes<4.0.0,>=3.2.0->spacy<3.8.0,>=3.7.2->en-core-web-sm==3.7.1) (1.2.0)\n",
            "Requirement already satisfied: markdown-it-py>=2.2.0 in /usr/local/lib/python3.10/dist-packages (from rich>=10.11.0->typer<1.0.0,>=0.3.0->spacy<3.8.0,>=3.7.2->en-core-web-sm==3.7.1) (3.0.0)\n",
            "Requirement already satisfied: pygments<3.0.0,>=2.13.0 in /usr/local/lib/python3.10/dist-packages (from rich>=10.11.0->typer<1.0.0,>=0.3.0->spacy<3.8.0,>=3.7.2->en-core-web-sm==3.7.1) (2.16.1)\n",
            "Requirement already satisfied: wrapt in /usr/local/lib/python3.10/dist-packages (from smart-open<8.0.0,>=5.2.1->weasel<0.5.0,>=0.1.0->spacy<3.8.0,>=3.7.2->en-core-web-sm==3.7.1) (1.14.1)\n",
            "Requirement already satisfied: mdurl~=0.1 in /usr/local/lib/python3.10/dist-packages (from markdown-it-py>=2.2.0->rich>=10.11.0->typer<1.0.0,>=0.3.0->spacy<3.8.0,>=3.7.2->en-core-web-sm==3.7.1) (0.1.2)\n",
            "\u001b[38;5;2m✔ Download and installation successful\u001b[0m\n",
            "You can now load the package via spacy.load('en_core_web_sm')\n",
            "\u001b[38;5;3m⚠ Restart to reload dependencies\u001b[0m\n",
            "If you are in a Jupyter or Colab notebook, you may need to restart Python in\n",
            "order to load all the package's dependencies. You can do this by selecting the\n",
            "'Restart kernel' or 'Restart runtime' option.\n"
          ]
        }
      ],
      "source": [
        "!pip install spacy pandas sklearn\n",
        "!python -m spacy download en_core_web_sm\n"
      ]
    },
    {
      "cell_type": "code",
      "execution_count": 2,
      "id": "8c7bfbc3",
      "metadata": {
        "colab": {
          "base_uri": "https://localhost:8080/"
        },
        "id": "8c7bfbc3",
        "outputId": "66a030ff-5c50-4b67-ed7f-4d10fbbe5a95"
      },
      "outputs": [
        {
          "output_type": "stream",
          "name": "stdout",
          "text": [
            "Collecting PyMuPDF\n",
            "  Downloading PyMuPDF-1.24.7-cp310-none-manylinux2014_x86_64.whl (3.5 MB)\n",
            "\u001b[2K     \u001b[90m━━━━━━━━━━━━━━━━━━━━━━━━━━━━━━━━━━━━━━━━\u001b[0m \u001b[32m3.5/3.5 MB\u001b[0m \u001b[31m21.3 MB/s\u001b[0m eta \u001b[36m0:00:00\u001b[0m\n",
            "\u001b[?25hCollecting PyMuPDFb==1.24.6 (from PyMuPDF)\n",
            "  Downloading PyMuPDFb-1.24.6-py3-none-manylinux2014_x86_64.manylinux_2_17_x86_64.whl (15.7 MB)\n",
            "\u001b[2K     \u001b[90m━━━━━━━━━━━━━━━━━━━━━━━━━━━━━━━━━━━━━━━━\u001b[0m \u001b[32m15.7/15.7 MB\u001b[0m \u001b[31m53.8 MB/s\u001b[0m eta \u001b[36m0:00:00\u001b[0m\n",
            "\u001b[?25hInstalling collected packages: PyMuPDFb, PyMuPDF\n",
            "Successfully installed PyMuPDF-1.24.7 PyMuPDFb-1.24.6\n"
          ]
        }
      ],
      "source": [
        "!pip install PyMuPDF"
      ]
    },
    {
      "cell_type": "code",
      "execution_count": 3,
      "id": "5af6069d",
      "metadata": {
        "colab": {
          "base_uri": "https://localhost:8080/"
        },
        "id": "5af6069d",
        "outputId": "f8d60477-a5d5-4b69-bea4-b3f59ff3eeef"
      },
      "outputs": [
        {
          "output_type": "stream",
          "name": "stdout",
          "text": [
            "spaCy version: 3.7.5\n",
            "pandas version: 2.0.3\n",
            "scikit-learn version: 1.2.2\n"
          ]
        }
      ],
      "source": [
        "import spacy\n",
        "import pandas as pd\n",
        "import sklearn\n",
        "\n",
        "print(\"spaCy version:\", spacy.__version__)\n",
        "print(\"pandas version:\", pd.__version__)\n",
        "print(\"scikit-learn version:\", sklearn.__version__)\n"
      ]
    },
    {
      "cell_type": "code",
      "execution_count": 4,
      "id": "d9389248",
      "metadata": {
        "colab": {
          "base_uri": "https://localhost:8080/"
        },
        "id": "d9389248",
        "outputId": "09821001-312e-4298-f64a-3c6d999e1f27"
      },
      "outputs": [
        {
          "output_type": "stream",
          "name": "stdout",
          "text": [
            "Requirement already satisfied: chardet in /usr/local/lib/python3.10/dist-packages (5.2.0)\n"
          ]
        }
      ],
      "source": [
        "!pip install chardet"
      ]
    },
    {
      "cell_type": "code",
      "execution_count": 5,
      "id": "2d992458",
      "metadata": {
        "colab": {
          "base_uri": "https://localhost:8080/"
        },
        "id": "2d992458",
        "outputId": "3fab1ee9-951b-4aa1-91a9-93cbb91b6c80"
      },
      "outputs": [
        {
          "output_type": "stream",
          "name": "stdout",
          "text": [
            "Collecting pdfminer.six\n",
            "  Downloading pdfminer.six-20231228-py3-none-any.whl (5.6 MB)\n",
            "\u001b[2K     \u001b[90m━━━━━━━━━━━━━━━━━━━━━━━━━━━━━━━━━━━━━━━━\u001b[0m \u001b[32m5.6/5.6 MB\u001b[0m \u001b[31m15.4 MB/s\u001b[0m eta \u001b[36m0:00:00\u001b[0m\n",
            "\u001b[?25hRequirement already satisfied: charset-normalizer>=2.0.0 in /usr/local/lib/python3.10/dist-packages (from pdfminer.six) (3.3.2)\n",
            "Requirement already satisfied: cryptography>=36.0.0 in /usr/local/lib/python3.10/dist-packages (from pdfminer.six) (42.0.8)\n",
            "Requirement already satisfied: cffi>=1.12 in /usr/local/lib/python3.10/dist-packages (from cryptography>=36.0.0->pdfminer.six) (1.16.0)\n",
            "Requirement already satisfied: pycparser in /usr/local/lib/python3.10/dist-packages (from cffi>=1.12->cryptography>=36.0.0->pdfminer.six) (2.22)\n",
            "Installing collected packages: pdfminer.six\n",
            "Successfully installed pdfminer.six-20231228\n"
          ]
        }
      ],
      "source": [
        "!pip install pdfminer.six\n"
      ]
    },
    {
      "cell_type": "markdown",
      "id": "506aa38d",
      "metadata": {
        "id": "506aa38d"
      },
      "source": [
        "# Step 2: Parsing Resumes"
      ]
    },
    {
      "cell_type": "markdown",
      "id": "5b6aea5d",
      "metadata": {
        "id": "5b6aea5d"
      },
      "source": [
        "We'll use 'spaCy' to extract key information from resumes."
      ]
    },
    {
      "cell_type": "markdown",
      "id": "35c24cfc",
      "metadata": {
        "id": "35c24cfc"
      },
      "source": [
        "2.1 Import Libraries"
      ]
    },
    {
      "cell_type": "code",
      "execution_count": 6,
      "id": "3e3f2804",
      "metadata": {
        "id": "3e3f2804"
      },
      "outputs": [],
      "source": [
        "import re\n",
        "from pdfminer.high_level import extract_text\n",
        "import spacy\n",
        "from spacy.matcher import Matcher\n",
        "from sklearn.feature_extraction.text import CountVectorizer\n",
        "from sklearn.metrics.pairwise import cosine_similarity\n",
        "\n",
        "# Load spacy model\n",
        "nlp = spacy.load('en_core_web_sm')"
      ]
    },
    {
      "cell_type": "markdown",
      "id": "acd16ec5",
      "metadata": {
        "id": "acd16ec5"
      },
      "source": [
        "2.2 Define Extraction Functions"
      ]
    },
    {
      "cell_type": "markdown",
      "id": "0896d206",
      "metadata": {
        "id": "0896d206"
      },
      "source": [
        "Create functions to extract the name, contact no, email, education and skills."
      ]
    },
    {
      "cell_type": "code",
      "execution_count": 7,
      "id": "277fb240",
      "metadata": {
        "id": "277fb240"
      },
      "outputs": [],
      "source": [
        "def extract_text_from_pdf(pdf_path):\n",
        "    return extract_text(pdf_path)\n",
        "\n",
        "def extract_contact_number_from_resume(text):\n",
        "    contact_number = None\n",
        "    pattern = r\"\\b(?:\\+?\\d{1,3}[-.\\s]?)?\\(?\\d{3}\\)?[-.\\s]?\\d{3}[-.\\s]?\\d{4}\\b\"\n",
        "    match = re.search(pattern, text)\n",
        "    if match:\n",
        "        contact_number = match.group()\n",
        "    return contact_number\n",
        "\n",
        "def extract_email_from_resume(text):\n",
        "    email = None\n",
        "    pattern = r\"\\b[A-Za-z0-9._%+-]+@[A-Za-z0-9.-]+\\.[A-Za-z]{2,}\\b\"\n",
        "    match = re.search(pattern, text)\n",
        "    if match:\n",
        "        email = match.group()\n",
        "    return email\n",
        "\n",
        "def extract_skills_from_resume(text, skills_list):\n",
        "    skills = []\n",
        "    for skill in skills_list:\n",
        "        pattern = r\"\\b{}\\b\".format(re.escape(skill))\n",
        "        if re.search(pattern, text, re.IGNORECASE):\n",
        "            skills.append(skill)\n",
        "    return skills\n",
        "\n",
        "def extract_education_from_resume(text):\n",
        "    education = []\n",
        "    pattern = r\"(?i)(?:Bsc|\\bB\\.\\w+|\\bM\\.\\w+|\\bPh\\.D\\.\\w+|\\bBachelor(?:'s)?|\\bMaster(?:'s)?|\\bPh\\.D)\\s(?:\\w+\\s)*\\w+\"\n",
        "    matches = re.findall(pattern, text)\n",
        "    for match in matches:\n",
        "        education.append(match.strip())\n",
        "    return education\n",
        "\n",
        "def extract_name(resume_text):\n",
        "    matcher = Matcher(nlp.vocab)\n",
        "    patterns = [\n",
        "        [{'POS': 'PROPN'}, {'POS': 'PROPN'}],\n",
        "        [{'POS': 'PROPN'}, {'POS': 'PROPN'}, {'POS': 'PROPN'}],\n",
        "        [{'POS': 'PROPN'}, {'POS': 'PROPN'}, {'POS': 'PROPN'}, {'POS': 'PROPN'}]\n",
        "    ]\n",
        "    for pattern in patterns:\n",
        "        matcher.add('NAME', patterns=[pattern])\n",
        "    doc = nlp(resume_text)\n",
        "    matches = matcher(doc)\n",
        "    for match_id, start, end in matches:\n",
        "        span = doc[start:end]\n",
        "        return span.text\n",
        "    return None\n",
        "\n",
        "def preprocess_text(text):\n",
        "    text = text.lower()  #lowercase conversion\n",
        "    text = re.sub(r'\\s+', ' ', text)  # whitespace removal\n",
        "    return text.strip()\n"
      ]
    },
    {
      "cell_type": "markdown",
      "id": "bd3dd88f",
      "metadata": {
        "id": "bd3dd88f"
      },
      "source": [
        "# Step 3: Matching Candidates with Job Descriptions"
      ]
    },
    {
      "cell_type": "markdown",
      "id": "e6233bd8",
      "metadata": {
        "id": "e6233bd8"
      },
      "source": [
        "Develop an algorithm to match resumes with job descriptions."
      ]
    },
    {
      "cell_type": "markdown",
      "id": "96e367c8",
      "metadata": {
        "id": "96e367c8"
      },
      "source": [
        "3.1 Define Matching Functions"
      ]
    },
    {
      "cell_type": "markdown",
      "id": "6f1dc3eb",
      "metadata": {
        "id": "6f1dc3eb"
      },
      "source": [
        "Create functions to calculate the match score between a resume and a job description."
      ]
    },
    {
      "cell_type": "code",
      "execution_count": 8,
      "id": "56caef64",
      "metadata": {
        "id": "56caef64"
      },
      "outputs": [],
      "source": [
        "def calculate_similarity(text1, text2):\n",
        "    vectorizer = CountVectorizer().fit_transform([text1, text2])\n",
        "    vectors = vectorizer.toarray()\n",
        "    cosine_sim = cosine_similarity(vectors)\n",
        "    return cosine_sim[0][1]\n",
        "\n",
        "def match_resume_with_job(resume_text, job_description):\n",
        "    resume_skills = extract_skills_from_resume(resume_text, job_description['skills'])\n",
        "    resume_education = extract_education_from_resume(resume_text)\n",
        "    candidate_name = extract_name(resume_text) #candidate name is being extracted\n",
        "\n",
        "    # Combining resume skills and education into a single string for matching\n",
        "    resume_combined = ' '.join(resume_skills) + ' ' + ' '.join(resume_education)\n",
        "    job_combined = ' '.join(job_description['skills']) + ' ' + ' '.join(job_description['education'])\n",
        "\n",
        "    # Preprocess text\n",
        "    resume_combined = preprocess_text(resume_combined)\n",
        "    job_combined = preprocess_text(job_combined)\n",
        "\n",
        "    # Calculate similarity\n",
        "    similarity_score = calculate_similarity(resume_combined, job_combined)\n",
        "\n",
        "    return {\n",
        "        'name': candidate_name,\n",
        "        'skills': resume_skills,\n",
        "        'education': resume_education,\n",
        "        'similarity_score': similarity_score\n",
        "    }"
      ]
    },
    {
      "cell_type": "markdown",
      "id": "a5b8ab80",
      "metadata": {
        "id": "a5b8ab80"
      },
      "source": [
        "3.2 Sample Job Description and Match Resumes with Job Description"
      ]
    },
    {
      "cell_type": "markdown",
      "id": "167595fd",
      "metadata": {
        "id": "167595fd"
      },
      "source": [
        "Define a sample job description to test the matching function."
      ]
    },
    {
      "cell_type": "code",
      "execution_count": 11,
      "id": "c50d5b71",
      "metadata": {
        "colab": {
          "base_uri": "https://localhost:8080/"
        },
        "id": "c50d5b71",
        "outputId": "d23fb4f2-7308-4db6-cd0f-9ee6a06f28e6"
      },
      "outputs": [
        {
          "output_type": "stream",
          "name": "stdout",
          "text": [
            "Error processing /content/Untitled-resume 3.pdf/content/Anisha Dsouza - Resume.pdf: [Errno 20] Not a directory: '/content/Untitled-resume 3.pdf/content/Anisha Dsouza - Resume.pdf'\n",
            "Best Matching Resume: /content/Resume 3.pdf\n",
            "Candidate Name: Rachelle Beaudry\n",
            "Match Score: 0.27\n",
            "Skills: Leadership\n",
            "Education: Master of Business Administration, Bachelor of Science in Accounting\n",
            "City College\n",
            "Aug 2015\n"
          ]
        }
      ],
      "source": [
        "if __name__ == '__main__':\n",
        "    # Sample job description and resumes\n",
        "    job_description = {\n",
        "        'title': 'Data Scientist',\n",
        "        'skills': ['Python', 'Machine Learning', 'Data Visualization', 'Leadership'],\n",
        "        'education': ['Bachelor', 'Master']\n",
        "    }\n",
        "\n",
        "    resume_paths = [\n",
        "        r\"/content/Resume 1.pdf\",\n",
        "        r\"/content/Resume 2.pdf\",\n",
        "        r\"/content/Resume 3.pdf\",\n",
        "        r\"/content/Untitled-resume 3.pdf\"\n",
        "        r\"/content/Anisha Dsouza - Resume.pdf\"\n",
        "    ]\n",
        "    # Match resumes with job description and find the best match\n",
        "    best_match = None\n",
        "    best_score = -1\n",
        "    for resume_path in resume_paths:\n",
        "        try:\n",
        "            resume_text = extract_text_from_pdf(resume_path)\n",
        "            match_info = match_resume_with_job(resume_text, job_description)\n",
        "            score = match_info['similarity_score']\n",
        "            # Update best match if current score is higher\n",
        "            if score > best_score:\n",
        "                best_score = score\n",
        "                best_match = {\n",
        "                    'resume_path': resume_path,\n",
        "                    'name': match_info['name'],\n",
        "                    'skills': match_info['skills'],\n",
        "                    'education': match_info['education'],\n",
        "                    'score': best_score\n",
        "                }\n",
        "        except Exception as e:\n",
        "            print(f\"Error processing {resume_path}: {e}\")\n",
        "    # Output detailed information of the best matching resume\n",
        "    if best_match:\n",
        "        print(f\"Best Matching Resume: {best_match['resume_path']}\")\n",
        "        print(f\"Candidate Name: {best_match['name']}\")\n",
        "        print(f\"Match Score: {best_match['score']:.2f}\")\n",
        "        print(f\"Skills: {', '.join(best_match['skills'])}\")\n",
        "        print(f\"Education: {', '.join(best_match['education'])}\")\n",
        "    else:\n",
        "        print(\"No valid resumes found or all failed to match the job description.\")"
      ]
    }
  ],
  "metadata": {
    "kernelspec": {
      "display_name": "Python 3 (ipykernel)",
      "language": "python",
      "name": "python3"
    },
    "language_info": {
      "codemirror_mode": {
        "name": "ipython",
        "version": 3
      },
      "file_extension": ".py",
      "mimetype": "text/x-python",
      "name": "python",
      "nbconvert_exporter": "python",
      "pygments_lexer": "ipython3",
      "version": "3.10.9"
    },
    "colab": {
      "provenance": []
    }
  },
  "nbformat": 4,
  "nbformat_minor": 5
}